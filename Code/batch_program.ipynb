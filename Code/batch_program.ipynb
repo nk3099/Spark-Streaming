{
 "cells": [
  {
   "cell_type": "code",
   "execution_count": 24,
   "id": "ba125a7f-3c1f-4a4d-adaf-db3666974f9a",
   "metadata": {},
   "outputs": [],
   "source": [
    "#creating spark session"
   ]
  },
  {
   "cell_type": "code",
   "execution_count": 25,
   "id": "e72ed6c0-c127-4947-b843-36aec397ac28",
   "metadata": {},
   "outputs": [],
   "source": [
    "from pyspark.sql import SparkSession\n",
    "\n",
    "spark = (\n",
    "    SparkSession\n",
    "    .builder\n",
    "    .master(\"local[*]\")\n",
    "    .appName(\"Spark Streaming\")\n",
    "    .getOrCreate()\n",
    ")"
   ]
  },
  {
   "cell_type": "code",
   "execution_count": 26,
   "id": "90d6c99b-f7e7-4709-aeff-b1fccc40833c",
   "metadata": {},
   "outputs": [
    {
     "data": {
      "text/html": [
       "\n",
       "            <div>\n",
       "                <p><b>SparkSession - in-memory</b></p>\n",
       "                \n",
       "        <div>\n",
       "            <p><b>SparkContext</b></p>\n",
       "\n",
       "            <p><a href=\"http://c5f0427c16f2:4041\">Spark UI</a></p>\n",
       "\n",
       "            <dl>\n",
       "              <dt>Version</dt>\n",
       "                <dd><code>v3.3.0</code></dd>\n",
       "              <dt>Master</dt>\n",
       "                <dd><code>local[*]</code></dd>\n",
       "              <dt>AppName</dt>\n",
       "                <dd><code>Spark Streaming</code></dd>\n",
       "            </dl>\n",
       "        </div>\n",
       "        \n",
       "            </div>\n",
       "        "
      ],
      "text/plain": [
       "<pyspark.sql.session.SparkSession at 0x7ffff83025f0>"
      ]
     },
     "execution_count": 26,
     "metadata": {},
     "output_type": "execute_result"
    }
   ],
   "source": [
    "spark"
   ]
  },
  {
   "cell_type": "code",
   "execution_count": 30,
   "id": "56d989a2-3649-4907-a6c9-8b3d5cf99b9a",
   "metadata": {},
   "outputs": [],
   "source": [
    "#read input data\n",
    "\n",
    "df_raw = spark.read.format(\"text\").load(\"data/example.txt\")"
   ]
  },
  {
   "cell_type": "code",
   "execution_count": 31,
   "id": "082a86d0-ef5d-4ddd-b2ea-5bc0aa50a153",
   "metadata": {},
   "outputs": [
    {
     "name": "stdout",
     "output_type": "stream",
     "text": [
      "root\n",
      " |-- value: string (nullable = true)\n",
      "\n"
     ]
    }
   ],
   "source": [
    "df_raw.printSchema()"
   ]
  },
  {
   "cell_type": "code",
   "execution_count": 32,
   "id": "09ab6812-5c9c-4869-b01d-0c4641680502",
   "metadata": {},
   "outputs": [
    {
     "name": "stdout",
     "output_type": "stream",
     "text": [
      "+----------------------------------------+\n",
      "|value                                   |\n",
      "+----------------------------------------+\n",
      "|spark structured streaming is intersting|\n",
      "+----------------------------------------+\n",
      "\n"
     ]
    }
   ],
   "source": [
    "df_raw.show(10,False)"
   ]
  },
  {
   "cell_type": "code",
   "execution_count": 33,
   "id": "2ad48214-82f8-494a-aa68-dd92bc3d598f",
   "metadata": {},
   "outputs": [],
   "source": [
    "#splite the line into words\n",
    "from pyspark.sql.functions import split\n",
    "\n",
    "df_words = df_raw.withColumn(\"words\", split(\"value\",' '))"
   ]
  },
  {
   "cell_type": "code",
   "execution_count": 34,
   "id": "272797a8-430f-43a4-bb76-0285ba38b740",
   "metadata": {},
   "outputs": [
    {
     "name": "stdout",
     "output_type": "stream",
     "text": [
      "+--------------------+--------------------+\n",
      "|               value|               words|\n",
      "+--------------------+--------------------+\n",
      "|spark structured ...|[spark, structure...|\n",
      "+--------------------+--------------------+\n",
      "\n"
     ]
    }
   ],
   "source": [
    "df_words.show()"
   ]
  },
  {
   "cell_type": "code",
   "execution_count": 35,
   "id": "b3fda7d6-012e-453d-a27b-8b314f157c74",
   "metadata": {},
   "outputs": [],
   "source": [
    "#explod the list of words\n",
    "from pyspark.sql.functions import explode\n",
    "\n",
    "df_explode = df_words.withColumn(\"word\",explode(\"words\")).drop(\"value\",\"words\")"
   ]
  },
  {
   "cell_type": "code",
   "execution_count": 36,
   "id": "08c05f7e-3098-4066-8031-d12efbe66b02",
   "metadata": {},
   "outputs": [
    {
     "name": "stdout",
     "output_type": "stream",
     "text": [
      "+----------+\n",
      "|      word|\n",
      "+----------+\n",
      "|     spark|\n",
      "|structured|\n",
      "| streaming|\n",
      "|        is|\n",
      "|intersting|\n",
      "+----------+\n",
      "\n"
     ]
    }
   ],
   "source": [
    "df_explode.show()"
   ]
  },
  {
   "cell_type": "code",
   "execution_count": 37,
   "id": "5bb7d2fd-5403-446a-9684-875ab634aeca",
   "metadata": {},
   "outputs": [],
   "source": [
    "#aggregate the words to generate count\n",
    "from pyspark.sql.functions import count,lit\n",
    "\n",
    "df_agg = df_explode.groupBy(\"word\").agg(count(lit(1)).alias(\"cnt\"))"
   ]
  },
  {
   "cell_type": "code",
   "execution_count": 38,
   "id": "6f3ed1ca-c684-4189-95e6-e446380ceb9f",
   "metadata": {},
   "outputs": [
    {
     "name": "stdout",
     "output_type": "stream",
     "text": [
      "+----------+---+\n",
      "|      word|cnt|\n",
      "+----------+---+\n",
      "| streaming|  1|\n",
      "|        is|  1|\n",
      "|     spark|  1|\n",
      "|structured|  1|\n",
      "|intersting|  1|\n",
      "+----------+---+\n",
      "\n"
     ]
    }
   ],
   "source": [
    "df_agg.show()"
   ]
  }
 ],
 "metadata": {
  "kernelspec": {
   "display_name": "Python 3 (ipykernel)",
   "language": "python",
   "name": "python3"
  },
  "language_info": {
   "codemirror_mode": {
    "name": "ipython",
    "version": 3
   },
   "file_extension": ".py",
   "mimetype": "text/x-python",
   "name": "python",
   "nbconvert_exporter": "python",
   "pygments_lexer": "ipython3",
   "version": "3.10.16"
  }
 },
 "nbformat": 4,
 "nbformat_minor": 5
}
