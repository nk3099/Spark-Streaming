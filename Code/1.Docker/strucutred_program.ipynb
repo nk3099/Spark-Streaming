{
 "cells": [
  {
   "cell_type": "code",
   "execution_count": 2,
   "id": "ba125a7f-3c1f-4a4d-adaf-db3666974f9a",
   "metadata": {},
   "outputs": [],
   "source": [
    "#creating spark session"
   ]
  },
  {
   "cell_type": "code",
   "execution_count": 2,
   "id": "e72ed6c0-c127-4947-b843-36aec397ac28",
   "metadata": {},
   "outputs": [],
   "source": [
    "from pyspark.sql import SparkSession\n",
    "\n",
    "spark = (\n",
    "    SparkSession\n",
    "    .builder\n",
    "    .master(\"local[*]\")\n",
    "    .appName(\"Spark Streaming\")\n",
    "    .config(\"spark.driver.host\",\"localhost\")\n",
    "    .config(\"spark.driver.port\",\"9999\")\n",
    "    .getOrCreate()\n",
    ")"
   ]
  },
  {
   "cell_type": "code",
   "execution_count": 3,
   "id": "90d6c99b-f7e7-4709-aeff-b1fccc40833c",
   "metadata": {},
   "outputs": [
    {
     "data": {
      "text/html": [
       "\n",
       "            <div>\n",
       "                <p><b>SparkSession - in-memory</b></p>\n",
       "                \n",
       "        <div>\n",
       "            <p><b>SparkContext</b></p>\n",
       "\n",
       "            <p><a href=\"http://localhost:4040\">Spark UI</a></p>\n",
       "\n",
       "            <dl>\n",
       "              <dt>Version</dt>\n",
       "                <dd><code>v3.3.0</code></dd>\n",
       "              <dt>Master</dt>\n",
       "                <dd><code>local[*]</code></dd>\n",
       "              <dt>AppName</dt>\n",
       "                <dd><code>Spark Streaming</code></dd>\n",
       "            </dl>\n",
       "        </div>\n",
       "        \n",
       "            </div>\n",
       "        "
      ],
      "text/plain": [
       "<pyspark.sql.session.SparkSession at 0x7ffff8061cc0>"
      ]
     },
     "execution_count": 3,
     "metadata": {},
     "output_type": "execute_result"
    }
   ],
   "source": [
    "spark"
   ]
  },
  {
   "cell_type": "code",
   "execution_count": 5,
   "id": "56d989a2-3649-4907-a6c9-8b3d5cf99b9a",
   "metadata": {},
   "outputs": [],
   "source": [
    "#read input data\n",
    "\n",
    "df_raw = spark.readStream.format(\"socket\") \\\n",
    ".option(\"host\",\"localhost\") \\\n",
    ".option(\"port\",\"9999\") \\\n",
    ".load()"
   ]
  },
  {
   "cell_type": "code",
   "execution_count": 6,
   "id": "2ad48214-82f8-494a-aa68-dd92bc3d598f",
   "metadata": {},
   "outputs": [],
   "source": [
    "#splite the line into words\n",
    "from pyspark.sql.functions import split\n",
    "\n",
    "df_words = df_raw.withColumn(\"words\", split(\"value\",' '))"
   ]
  },
  {
   "cell_type": "code",
   "execution_count": 8,
   "id": "b3fda7d6-012e-453d-a27b-8b314f157c74",
   "metadata": {},
   "outputs": [],
   "source": [
    "#explod the list of words\n",
    "from pyspark.sql.functions import explode\n",
    "\n",
    "df_explode = df_words.withColumn(\"word\",explode(\"words\")).drop(\"value\",\"words\")"
   ]
  },
  {
   "cell_type": "code",
   "execution_count": 9,
   "id": "5bb7d2fd-5403-446a-9684-875ab634aeca",
   "metadata": {},
   "outputs": [],
   "source": [
    "#aggregate the words to generate count\n",
    "from pyspark.sql.functions import count,lit\n",
    "\n",
    "df_agg = df_explode.groupBy(\"word\").agg(count(lit(1)).alias(\"cnt\"))"
   ]
  },
  {
   "cell_type": "code",
   "execution_count": null,
   "id": "1a2cd35d-c14c-4ae4-88df-29863d2f21ae",
   "metadata": {},
   "outputs": [],
   "source": [
    "from pyspark.sql.utils import StreamingQueryException\n",
    "\n",
    "try:\n",
    "    query = df_agg.writeStream \\\n",
    "        .format(\"console\") \\\n",
    "        .outputMode(\"complete\") \\\n",
    "        .start()\n",
    "    \n",
    "    query.awaitTermination()\n",
    "\n",
    "except StreamingQueryException as e:\n",
    "    print(f\"StreamingQueryException: {e}\")\n",
    "\n",
    "finally:\n",
    "    print(\"Ending the streaming process.\")\n"
   ]
  }
 ],
 "metadata": {
  "kernelspec": {
   "display_name": "Python 3 (ipykernel)",
   "language": "python",
   "name": "python3"
  },
  "language_info": {
   "codemirror_mode": {
    "name": "ipython",
    "version": 3
   },
   "file_extension": ".py",
   "mimetype": "text/x-python",
   "name": "python",
   "nbconvert_exporter": "python",
   "pygments_lexer": "ipython3",
   "version": "3.10.16"
  }
 },
 "nbformat": 4,
 "nbformat_minor": 5
}
